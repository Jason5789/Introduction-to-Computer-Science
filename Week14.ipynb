{
  "nbformat": 4,
  "nbformat_minor": 0,
  "metadata": {
    "colab": {
      "name": "H34101096_Week14.ipynb",
      "provenance": [],
      "collapsed_sections": []
    },
    "kernelspec": {
      "name": "python3",
      "display_name": "Python 3"
    },
    "language_info": {
      "name": "python"
    }
  },
  "cells": [
    {
      "cell_type": "code",
      "metadata": {
        "colab": {
          "base_uri": "https://localhost:8080/"
        },
        "outputId": "6258e115-15d0-4ba7-ed9a-b37ebda7ad4b",
        "id": "8HdG2IZqYbq3"
      },
      "source": [
        "%%writefile H34101096_Week14.cpp\n",
        "\n",
        "#include <iostream>\n",
        "#include <iomanip>\n",
        "using namespace std;\n",
        "\n",
        "int build(int number,int i,int j){\n",
        "    return (i-1)*number+j;\n",
        "}\n",
        "\n",
        "int cal(int number,int i,int j){\n",
        "    int sum=0;\n",
        "    for (int k=1 ; k<=number ; k++){\n",
        "        sum=sum+build(number,i,k)*build(number,k,j);\n",
        "    }\n",
        "    return sum;\n",
        "}\n",
        "\n",
        "\n",
        "int main(){\n",
        "    int number;\n",
        "\n",
        "    cout << \"Please enter a number n to build a matrix A: \";\n",
        "    cin >> number;\n",
        "\n",
        "    int matrix[number][number];\n",
        "    \n",
        "    for (int i=1 ; i<=number ; i++){\n",
        "        for (int j=1 ; j<=number ; j++){\n",
        "            matrix[i][j]=build(number,i,j);\n",
        "            cout << setw(5) << matrix[i][j];\n",
        "            if (j==number)\n",
        "                cout << endl;\n",
        "      }\n",
        "    }\n",
        "    \n",
        "    cout << \"Matrix A multiplied by itself:\" <<endl;\n",
        "\n",
        "    for (int i=1 ; i<=number ; i++){\n",
        "        for (int j=1 ; j <=number ; j++){\n",
        "              cout << setw(5) << cal(number,i,j);\n",
        "              if (j==number)\n",
        "                  cout << endl;\n",
        "        }\n",
        "    }\n",
        "    \n",
        "    return 0;\n",
        "}"
      ],
      "execution_count": 11,
      "outputs": [
        {
          "output_type": "stream",
          "name": "stdout",
          "text": [
            "Overwriting H34101096_Week14.cpp\n"
          ]
        }
      ]
    },
    {
      "cell_type": "code",
      "metadata": {
        "id": "5vNMu_uyCd2s",
        "colab": {
          "base_uri": "https://localhost:8080/"
        },
        "outputId": "979b1919-181f-4ef6-f7a3-544a83a6b51c"
      },
      "source": [
        "%%shell\n",
        "\n",
        "g++ H34101096_Week14.cpp -o H34101096_Week14"
      ],
      "execution_count": 12,
      "outputs": [
        {
          "output_type": "execute_result",
          "data": {
            "text/plain": [
              ""
            ]
          },
          "metadata": {},
          "execution_count": 12
        }
      ]
    },
    {
      "cell_type": "code",
      "metadata": {
        "id": "6hgMSofMQ9Eu",
        "colab": {
          "base_uri": "https://localhost:8080/"
        },
        "outputId": "f71428f7-6aa0-488d-ebe9-cbe68f59e05b"
      },
      "source": [
        "%%shell\n",
        "\n",
        "./H34101096_Week14"
      ],
      "execution_count": 13,
      "outputs": [
        {
          "output_type": "stream",
          "name": "stdout",
          "text": [
            "Please enter a number n to build a matrix A: 3\n",
            "    1    2    3\n",
            "    4    5    6\n",
            "    7    8    9\n",
            "Matrix A multiplied by itself:\n",
            "   30   36   42\n",
            "   66   81   96\n",
            "  102  126  150\n"
          ]
        },
        {
          "output_type": "execute_result",
          "data": {
            "text/plain": [
              ""
            ]
          },
          "metadata": {},
          "execution_count": 13
        }
      ]
    }
  ]
}