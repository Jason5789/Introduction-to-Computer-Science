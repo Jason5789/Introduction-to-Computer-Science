{
  "nbformat": 4,
  "nbformat_minor": 0,
  "metadata": {
    "colab": {
      "name": "H34101096_week4.ipynb",
      "provenance": [],
      "collapsed_sections": []
    },
    "kernelspec": {
      "name": "python3",
      "display_name": "Python 3"
    },
    "language_info": {
      "name": "python"
    }
  },
  "cells": [
    {
      "cell_type": "markdown",
      "metadata": {
        "id": "MlRk1Jyou29j"
      },
      "source": [
        "Q1"
      ]
    },
    {
      "cell_type": "code",
      "metadata": {
        "id": "ruTPGCIxgw0Z",
        "colab": {
          "base_uri": "https://localhost:8080/"
        },
        "outputId": "9b244ec0-52dd-48c0-d61a-880763556456"
      },
      "source": [
        "%%writefile H34101096_week4.cpp\n",
        "\n",
        "#include <iostream>\n",
        "using namespace std;\n",
        "\n",
        "int main(){\n",
        "    int Fn, n=2, Fn_1=1, Fn_2=0;\n",
        "\n",
        "    while( n <= 20){\n",
        "        Fn = Fn_1 + Fn_2;\n",
        "        Fn_2 = Fn_1;\n",
        "        Fn_1 = Fn;\n",
        "        cout << \"F\" << n << \"=\" << Fn_1 <<endl;\n",
        "        n = n + 1;\n",
        "    }\n",
        "    return 0;\n",
        "}"
      ],
      "execution_count": 3,
      "outputs": [
        {
          "output_type": "stream",
          "name": "stdout",
          "text": [
            "Overwriting H34101096_week4.cpp\n"
          ]
        }
      ]
    },
    {
      "cell_type": "code",
      "metadata": {
        "colab": {
          "base_uri": "https://localhost:8080/"
        },
        "id": "U6QijCIPxgyL",
        "outputId": "60e98e44-0b4f-4725-9d53-2a3d3120e2c6"
      },
      "source": [
        "%%shell\n",
        "\n",
        "g++ H34101096_week4.cpp -o H34101096_week4"
      ],
      "execution_count": 4,
      "outputs": [
        {
          "output_type": "execute_result",
          "data": {
            "text/plain": [
              ""
            ]
          },
          "metadata": {},
          "execution_count": 4
        }
      ]
    },
    {
      "cell_type": "code",
      "metadata": {
        "colab": {
          "base_uri": "https://localhost:8080/"
        },
        "id": "yYvuxnWzy2KM",
        "outputId": "6ad88912-8648-41f2-9c1e-561bf439faf5"
      },
      "source": [
        "%%shell\n",
        "\n",
        "./H34101096_week4"
      ],
      "execution_count": 5,
      "outputs": [
        {
          "output_type": "stream",
          "name": "stdout",
          "text": [
            "F2=1\n",
            "F3=2\n",
            "F4=3\n",
            "F5=5\n",
            "F6=8\n",
            "F7=13\n",
            "F8=21\n",
            "F9=34\n",
            "F10=55\n",
            "F11=89\n",
            "F12=144\n",
            "F13=233\n",
            "F14=377\n",
            "F15=610\n",
            "F16=987\n",
            "F17=1597\n",
            "F18=2584\n",
            "F19=4181\n",
            "F20=6765\n"
          ]
        },
        {
          "output_type": "execute_result",
          "data": {
            "text/plain": [
              ""
            ]
          },
          "metadata": {},
          "execution_count": 5
        }
      ]
    }
  ]
}