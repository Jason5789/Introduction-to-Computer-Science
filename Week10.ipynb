{
  "nbformat": 4,
  "nbformat_minor": 0,
  "metadata": {
    "colab": {
      "name": "H34101096_Week10.ipynb",
      "provenance": [],
      "collapsed_sections": []
    },
    "kernelspec": {
      "display_name": "Python 3",
      "name": "python3"
    },
    "language_info": {
      "name": "python"
    }
  },
  "cells": [
    {
      "cell_type": "code",
      "metadata": {
        "colab": {
          "base_uri": "https://localhost:8080/"
        },
        "id": "XkOr1dtHCVPy",
        "outputId": "4bfd2e0f-87b0-4107-972f-d12e6ec12447"
      },
      "source": [
        "%%writefile H34101096_Week10.cpp\n",
        "\n",
        "#include <iostream>\n",
        "#include <cstdlib>\n",
        "#include <ctime>\n",
        "using namespace std;\n",
        "\n",
        "int main(){\n",
        "    srand(time(0));\n",
        "    \n",
        "    int car;\n",
        "    int choose;\n",
        "    double notCounter;\n",
        "    double counter;\n",
        "\n",
        "    for (int i=1 ; i<=5000 ; i++){\n",
        "        car = 1 + rand()%3;\n",
        "        choose = 1 + rand()%3;\n",
        "\n",
        "        if (car == choose){\n",
        "          notCounter++;\n",
        "        }\n",
        "    }\n",
        "\n",
        "    for (int j=1 ; j<5000 ; j++){\n",
        "        car = 1 + rand()%3;\n",
        "        choose = 1 + rand()%3;\n",
        "\n",
        "        if (car != choose){\n",
        "          counter++;\n",
        "        }\n",
        "    }\n",
        "\n",
        "    cout << \"If you do not switch, the prob. of winning is: \" << notCounter / 5000 <<endl;\n",
        "    cout << \"If you switch, the prob. of winning is: \" << counter / 5000 <<endl;\n",
        "\n",
        "    return 0;\n",
        "}"
      ],
      "execution_count": 4,
      "outputs": [
        {
          "output_type": "stream",
          "name": "stdout",
          "text": [
            "Overwriting H34101096_Week10.cpp\n"
          ]
        }
      ]
    },
    {
      "cell_type": "code",
      "metadata": {
        "colab": {
          "base_uri": "https://localhost:8080/"
        },
        "id": "5vNMu_uyCd2s",
        "outputId": "27bc8ac1-0b3e-4ba7-c6a0-51d4789081ac"
      },
      "source": [
        "%%shell\n",
        "\n",
        "g++ H34101096_Week10.cpp -o H34101096_Week10"
      ],
      "execution_count": 5,
      "outputs": [
        {
          "output_type": "execute_result",
          "data": {
            "text/plain": [
              ""
            ]
          },
          "metadata": {},
          "execution_count": 5
        }
      ]
    },
    {
      "cell_type": "code",
      "metadata": {
        "colab": {
          "base_uri": "https://localhost:8080/"
        },
        "id": "6hgMSofMQ9Eu",
        "outputId": "3b650a2b-74e5-486e-83d6-042939dd431b"
      },
      "source": [
        "%%shell\n",
        "\n",
        "./H34101096_Week10"
      ],
      "execution_count": 31,
      "outputs": [
        {
          "output_type": "stream",
          "name": "stdout",
          "text": [
            "If you do not switch, the prob. of winning is: 0.336\n",
            "If you switch, the prob. of winning is: 0.6648\n"
          ]
        },
        {
          "output_type": "execute_result",
          "data": {
            "text/plain": [
              ""
            ]
          },
          "metadata": {},
          "execution_count": 31
        }
      ]
    }
  ]
}