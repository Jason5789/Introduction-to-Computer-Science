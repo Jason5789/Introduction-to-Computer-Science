{
  "nbformat": 4,
  "nbformat_minor": 0,
  "metadata": {
    "colab": {
      "name": "H34101096_Week15.ipynb",
      "provenance": [],
      "collapsed_sections": []
    },
    "kernelspec": {
      "name": "python3",
      "display_name": "Python 3"
    },
    "language_info": {
      "name": "python"
    }
  },
  "cells": [
    {
      "cell_type": "code",
      "metadata": {
        "id": "XkOr1dtHCVPy",
        "colab": {
          "base_uri": "https://localhost:8080/"
        },
        "outputId": "6c772c5f-d3f4-4d92-d1e6-c74dbb5b38aa"
      },
      "source": [
        "%%writefile H34101096_Week15.cpp\n",
        "\n",
        "#include <iostream>\n",
        "#include <ctime>\n",
        "#include <iomanip>\n",
        "using namespace std;\n",
        "\n",
        "int main(){\n",
        "    double four=0.0;\n",
        "    double three=0.0;\n",
        "    double two=0.0;\n",
        "    double one=0.0;\n",
        "\n",
        "    srand(time(0));\n",
        "\n",
        "    for (int i=1 ; i<=10000000 ; i++){\n",
        "        int count=0;\n",
        "        int random=0;\n",
        "        for (int j=1 ; j<=471 ; j++){\n",
        "            random = rand() % 10;\n",
        "            if(random==0)\n",
        "              count++;\n",
        "        }\n",
        "        if (count<=11)\n",
        "          one++;\n",
        "        if (count<=20)\n",
        "          two++;\n",
        "        if (count<=30)\n",
        "          three++;\n",
        "        if (count<=40)\n",
        "          four++;\n",
        "    }\n",
        "\n",
        "    cout << \"The estimated prob. of winning <= 40 items: \" << setprecision(7) << four/10000000 <<endl;\n",
        "    cout << \"The estimated prob. of winning <= 30 items: \" << setprecision(7) << three/10000000 <<endl;\n",
        "    cout << \"The estimated prob. of winning <= 20 items: \" << two/10000000 <<endl;\n",
        "    cout << \"The estimated prob. of being unlucky as the streamer (<=11 items): \" << one/10000000 <<endl;\n",
        "\n",
        "    return 0;\n",
        "}"
      ],
      "execution_count": 13,
      "outputs": [
        {
          "output_type": "stream",
          "name": "stdout",
          "text": [
            "Overwriting H34101096_Week15.cpp\n"
          ]
        }
      ]
    },
    {
      "cell_type": "code",
      "metadata": {
        "id": "5vNMu_uyCd2s",
        "colab": {
          "base_uri": "https://localhost:8080/"
        },
        "outputId": "8228fc6d-a9e2-44c5-a79b-8374db05d052"
      },
      "source": [
        "%%shell\n",
        "\n",
        "g++ H34101096_Week15.cpp -o H34101096_Week15"
      ],
      "execution_count": 14,
      "outputs": [
        {
          "output_type": "execute_result",
          "data": {
            "text/plain": [
              ""
            ]
          },
          "metadata": {},
          "execution_count": 14
        }
      ]
    },
    {
      "cell_type": "code",
      "metadata": {
        "id": "6hgMSofMQ9Eu",
        "colab": {
          "base_uri": "https://localhost:8080/"
        },
        "outputId": "8aec6155-5c87-4b97-a174-8019ae1c39d6"
      },
      "source": [
        "%%shell\n",
        "\n",
        "./H34101096_Week15"
      ],
      "execution_count": 15,
      "outputs": [
        {
          "output_type": "stream",
          "name": "stdout",
          "text": [
            "The estimated prob. of winning <= 40 items: 0.1547797\n",
            "The estimated prob. of winning <= 30 items: 0.0033773\n",
            "The estimated prob. of winning <= 20 items: 1.5e-06\n",
            "The estimated prob. of being unlucky as the streamer (<=11 items): 0\n"
          ]
        },
        {
          "output_type": "execute_result",
          "data": {
            "text/plain": [
              ""
            ]
          },
          "metadata": {},
          "execution_count": 15
        }
      ]
    }
  ]
}