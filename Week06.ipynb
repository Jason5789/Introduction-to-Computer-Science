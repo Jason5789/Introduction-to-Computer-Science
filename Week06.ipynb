{
  "nbformat": 4,
  "nbformat_minor": 0,
  "metadata": {
    "colab": {
      "name": "H34101096_Week6.ipynb",
      "provenance": [],
      "collapsed_sections": []
    },
    "kernelspec": {
      "name": "python3",
      "display_name": "Python 3"
    },
    "language_info": {
      "name": "python"
    }
  },
  "cells": [
    {
      "cell_type": "code",
      "metadata": {
        "id": "XkOr1dtHCVPy",
        "colab": {
          "base_uri": "https://localhost:8080/"
        },
        "outputId": "ee570baa-b4ae-45fc-9560-9ae9051b0006"
      },
      "source": [
        "%%writefile H34101096_Week6.cpp\n",
        "\n",
        "#include <iostream>\n",
        "using namespace std;\n",
        "\n",
        "int main(){\n",
        "    int i;\n",
        "    int j;\n",
        "\n",
        "    cout << \"Please input a positive integer:\";\n",
        "    cin >> i;\n",
        "\n",
        "    for(int j=2 ; j<i ; j++ )\n",
        "    {;\n",
        "        if (i%j==0)\n",
        "        cout << j << \" \";\n",
        "     }\n",
        "\n",
        "    return 0;\n",
        "}"
      ],
      "execution_count": 11,
      "outputs": [
        {
          "output_type": "stream",
          "name": "stdout",
          "text": [
            "Overwriting H34101096_Week6.cpp\n"
          ]
        }
      ]
    },
    {
      "cell_type": "code",
      "metadata": {
        "id": "5vNMu_uyCd2s",
        "colab": {
          "base_uri": "https://localhost:8080/"
        },
        "outputId": "bc3e8a7b-8636-4cf2-d9d6-6cbc0215cd19"
      },
      "source": [
        "%%shell\n",
        "\n",
        "g++ H34101096_Week6.cpp -o H34101096_Week6"
      ],
      "execution_count": 12,
      "outputs": [
        {
          "output_type": "execute_result",
          "data": {
            "text/plain": [
              ""
            ]
          },
          "metadata": {},
          "execution_count": 12
        }
      ]
    },
    {
      "cell_type": "code",
      "metadata": {
        "id": "6hgMSofMQ9Eu",
        "colab": {
          "base_uri": "https://localhost:8080/"
        },
        "outputId": "ff2fdf4a-c47e-4ec3-f864-4fe00ba68857"
      },
      "source": [
        "%%shell\n",
        "\n",
        "./H34101096_Week6"
      ],
      "execution_count": 13,
      "outputs": [
        {
          "output_type": "stream",
          "name": "stdout",
          "text": [
            "Please input a positive integer:100\n",
            "2 4 5 10 20 25 50 "
          ]
        },
        {
          "output_type": "execute_result",
          "data": {
            "text/plain": [
              ""
            ]
          },
          "metadata": {},
          "execution_count": 13
        }
      ]
    }
  ]
}