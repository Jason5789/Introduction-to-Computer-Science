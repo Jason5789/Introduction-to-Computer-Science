{
  "nbformat": 4,
  "nbformat_minor": 0,
  "metadata": {
    "colab": {
      "name": "H34101096_Week12.ipynb",
      "provenance": [],
      "collapsed_sections": []
    },
    "kernelspec": {
      "name": "python3",
      "display_name": "Python 3"
    },
    "language_info": {
      "name": "python"
    }
  },
  "cells": [
    {
      "cell_type": "code",
      "metadata": {
        "id": "XkOr1dtHCVPy",
        "colab": {
          "base_uri": "https://localhost:8080/"
        },
        "outputId": "2efaebc9-6a5a-4c1a-c7c0-6772b73bcd60"
      },
      "source": [
        "%%writefile H34101096_Week12.cpp\n",
        "\n",
        "#include <iostream>\n",
        "#include <cstdlib>\n",
        "#include <ctime>\n",
        "using namespace std;\n",
        "\n",
        "void mySwap( int S[] , int i , int j ){\n",
        "    int num;\n",
        "        if (S[i]>S[j]){\n",
        "           num=S[j];\n",
        "           S[j]=S[i];\n",
        "           S[i]=num;\n",
        "          }\n",
        "}\n",
        "\n",
        "int main(){\n",
        "    srand(time(0));\n",
        "    int number[10];\n",
        "    int i,j;\n",
        "\n",
        "    for ( i=0 ; i<10 ; i++ )\n",
        "      number[i]=rand()%1000+1;\n",
        "\n",
        "    cout << \"Ten random numbers: \";\n",
        "    for ( i=0 ; i<10 ; i++ )\n",
        "      cout << number[i] << \" \";\n",
        "    cout << endl;\n",
        "\n",
        "    for (int a=0 ; a<9 ; a++){\n",
        "        for ( i=0 ; i<9-a ; i++ )\n",
        "           mySwap(number , i , i+1 );\n",
        "    }\n",
        "\n",
        "    cout << \"Sorted by bubble sorting: \";\n",
        "    for ( i=0 ; i<10 ; i++ )\n",
        "      cout << number[i] << \" \";\n",
        "    cout << endl;\n",
        "\n",
        "    return 0;\n",
        "}"
      ],
      "execution_count": 71,
      "outputs": [
        {
          "output_type": "stream",
          "name": "stdout",
          "text": [
            "Overwriting H34101096_Week12.cpp\n"
          ]
        }
      ]
    },
    {
      "cell_type": "code",
      "metadata": {
        "id": "5vNMu_uyCd2s",
        "colab": {
          "base_uri": "https://localhost:8080/"
        },
        "outputId": "54be12a1-27c2-45ac-ed4e-68e59f1a19fb"
      },
      "source": [
        "%%shell\n",
        "\n",
        "g++ H34101096_Week12.cpp -o H34101096_Week12"
      ],
      "execution_count": 72,
      "outputs": [
        {
          "output_type": "execute_result",
          "data": {
            "text/plain": [
              ""
            ]
          },
          "metadata": {},
          "execution_count": 72
        }
      ]
    },
    {
      "cell_type": "code",
      "metadata": {
        "id": "6hgMSofMQ9Eu",
        "colab": {
          "base_uri": "https://localhost:8080/"
        },
        "outputId": "d44a5bdd-56a4-4da1-ff55-6909779bee81"
      },
      "source": [
        "%%shell\n",
        "\n",
        "./H34101096_Week12"
      ],
      "execution_count": 73,
      "outputs": [
        {
          "output_type": "stream",
          "name": "stdout",
          "text": [
            "Ten random numbers: 413 492 164 76 156 619 946 733 262 804 \n",
            "Sorted by bubble sorting: 76 156 164 262 413 492 619 733 804 946 \n"
          ]
        },
        {
          "output_type": "execute_result",
          "data": {
            "text/plain": [
              ""
            ]
          },
          "metadata": {},
          "execution_count": 73
        }
      ]
    }
  ]
}