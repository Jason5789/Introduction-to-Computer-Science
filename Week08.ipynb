{
  "nbformat": 4,
  "nbformat_minor": 0,
  "metadata": {
    "colab": {
      "name": "H34101096_Week8.ipynb",
      "provenance": [],
      "collapsed_sections": []
    },
    "kernelspec": {
      "name": "python3",
      "display_name": "Python 3"
    },
    "language_info": {
      "name": "python"
    }
  },
  "cells": [
    {
      "cell_type": "code",
      "metadata": {
        "id": "XkOr1dtHCVPy",
        "colab": {
          "base_uri": "https://localhost:8080/"
        },
        "outputId": "28864f7a-0588-4e1f-ed1c-90189b177466"
      },
      "source": [
        "%%writefile H34101096_Week8.cpp\n",
        "\n",
        "#include <iostream>\n",
        "#include <cstdlib>\n",
        "#include <ctime>\n",
        "using namespace std;\n",
        "\n",
        "int main(){\n",
        "    int x;\n",
        "    int y=0;\n",
        "\n",
        "    srand(time(0));\n",
        "\n",
        "    x=1+rand()%100;\n",
        "\n",
        "    while(y!=x)\n",
        "    {\n",
        "      cout << \"Input a number between 1 and 100 (inclusive) (Or input -1 to leave):\";\n",
        "      cin >> y;\n",
        "\n",
        "      if(y==-1)\n",
        "        {cout << \"Bye!\" <<endl;\n",
        "        break;}\n",
        "      else if(y>x)\n",
        "        cout << \"Lower\" <<endl;\n",
        "      else if(y<x)\n",
        "        cout << \"Higher\" <<endl;\n",
        "      else\n",
        "        {cout << \"You got it, the answer is \" << x <<endl;\n",
        "        break;}\n",
        "    }\n",
        "\n",
        "\n",
        "    return 0;\n",
        "}"
      ],
      "execution_count": 4,
      "outputs": [
        {
          "output_type": "stream",
          "name": "stdout",
          "text": [
            "Overwriting H34101096_Week8.cpp\n"
          ]
        }
      ]
    },
    {
      "cell_type": "code",
      "metadata": {
        "id": "5vNMu_uyCd2s",
        "colab": {
          "base_uri": "https://localhost:8080/"
        },
        "outputId": "9fe08490-e153-4cfc-b28f-600468e62845"
      },
      "source": [
        "%%shell\n",
        "\n",
        "g++ H34101096_Week8.cpp -o H34101096_Week8"
      ],
      "execution_count": 5,
      "outputs": [
        {
          "output_type": "execute_result",
          "data": {
            "text/plain": [
              ""
            ]
          },
          "metadata": {},
          "execution_count": 5
        }
      ]
    },
    {
      "cell_type": "code",
      "metadata": {
        "id": "6hgMSofMQ9Eu",
        "colab": {
          "base_uri": "https://localhost:8080/"
        },
        "outputId": "fb41e117-7989-41a2-eabd-61a9c62090b7"
      },
      "source": [
        "%%shell\n",
        "\n",
        "./H34101096_Week8"
      ],
      "execution_count": 7,
      "outputs": [
        {
          "output_type": "stream",
          "name": "stdout",
          "text": [
            "Input a number between 1 and 100 (inclusive) (Or input -1 to leave):50\n",
            "Lower\n",
            "Input a number between 1 and 100 (inclusive) (Or input -1 to leave):25\n",
            "Higher\n",
            "Input a number between 1 and 100 (inclusive) (Or input -1 to leave):37\n",
            "Higher\n",
            "Input a number between 1 and 100 (inclusive) (Or input -1 to leave):43\n",
            "You got it, the answer is 43\n"
          ]
        },
        {
          "output_type": "execute_result",
          "data": {
            "text/plain": [
              ""
            ]
          },
          "metadata": {},
          "execution_count": 7
        }
      ]
    }
  ]
}