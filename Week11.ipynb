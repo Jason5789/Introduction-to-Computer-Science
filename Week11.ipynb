{
  "nbformat": 4,
  "nbformat_minor": 0,
  "metadata": {
    "colab": {
      "name": "H34101096_Week11.ipynb",
      "provenance": [],
      "collapsed_sections": []
    },
    "kernelspec": {
      "name": "python3",
      "display_name": "Python 3"
    },
    "language_info": {
      "name": "python"
    }
  },
  "cells": [
    {
      "cell_type": "code",
      "metadata": {
        "id": "XkOr1dtHCVPy",
        "colab": {
          "base_uri": "https://localhost:8080/"
        },
        "outputId": "853bac2a-1aa3-4b7f-def9-3ded5e4b4da9"
      },
      "source": [
        "%%writefile H34101096_Week11.cpp\n",
        "\n",
        "#include <iostream>\n",
        "#include <cmath>\n",
        "#include <iomanip>\n",
        "using namespace std;\n",
        "\n",
        "double approxPIsquared_iter(int i){\n",
        "    double sum=0.0;\n",
        "    for (int j=1 ; j < i*2 ; j+=2 ){\n",
        "        sum=sum+8.0/pow(j,2);\n",
        "    }\n",
        "    return sum;\n",
        "}\n",
        "\n",
        "double approxPIsquared_recur(int i){\n",
        "    if(i==1){\n",
        "        return 8.0;\n",
        "    }\n",
        "    else{\n",
        "        return 8.0/pow(2*i-1,2) + approxPIsquared_recur(i-1);\n",
        "    }\n",
        "}\n",
        "\n",
        "int main(){\n",
        "    int number;\n",
        "\n",
        "    cout << \"How many numbers are in the series?:\";\n",
        "    cin >> number;\n",
        "\n",
        "    cout << \"(iterative) By including \" << number << \" numbers in the series, the approximated Pi is \" << setprecision(12) << fixed << sqrt(approxPIsquared_iter(number)) <<endl;\n",
        "    cout << \"(recursive) By including \" << number << \" numbers in the series, the approximated Pi is \" << setprecision(12) << fixed << sqrt(approxPIsquared_recur(number)) <<endl;\n",
        "    \n",
        "    return 0;\n",
        "}"
      ],
      "execution_count": 10,
      "outputs": [
        {
          "output_type": "stream",
          "name": "stdout",
          "text": [
            "Overwriting H34101096_Week11.cpp\n"
          ]
        }
      ]
    },
    {
      "cell_type": "code",
      "metadata": {
        "id": "5vNMu_uyCd2s",
        "colab": {
          "base_uri": "https://localhost:8080/"
        },
        "outputId": "7026c4b0-7e77-404f-b829-e061003479ef"
      },
      "source": [
        "%%shell\n",
        "\n",
        "g++ H34101096_Week11.cpp -o H34101096_Week11"
      ],
      "execution_count": 11,
      "outputs": [
        {
          "output_type": "execute_result",
          "data": {
            "text/plain": [
              ""
            ]
          },
          "metadata": {},
          "execution_count": 11
        }
      ]
    },
    {
      "cell_type": "code",
      "metadata": {
        "id": "6hgMSofMQ9Eu",
        "colab": {
          "base_uri": "https://localhost:8080/"
        },
        "outputId": "9d4107f8-8085-40ff-abc8-ff0b58f17457"
      },
      "source": [
        "%%shell\n",
        "\n",
        "./H34101096_Week11"
      ],
      "execution_count": 12,
      "outputs": [
        {
          "output_type": "stream",
          "name": "stdout",
          "text": [
            "How many numbers are in the series?:50000\n",
            "(iterative) By including 50000 numbers in the series, the approximated Pi is 3.141586287386\n",
            "(recursive) By including 50000 numbers in the series, the approximated Pi is 3.141586287386\n"
          ]
        },
        {
          "output_type": "execute_result",
          "data": {
            "text/plain": [
              ""
            ]
          },
          "metadata": {},
          "execution_count": 12
        }
      ]
    }
  ]
}