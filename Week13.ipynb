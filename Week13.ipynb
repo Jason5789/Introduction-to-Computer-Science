{
  "nbformat": 4,
  "nbformat_minor": 0,
  "metadata": {
    "colab": {
      "name": "H34101096_Week13.ipynb",
      "provenance": [],
      "collapsed_sections": []
    },
    "kernelspec": {
      "name": "python3",
      "display_name": "Python 3"
    },
    "language_info": {
      "name": "python"
    }
  },
  "cells": [
    {
      "cell_type": "code",
      "metadata": {
        "id": "XkOr1dtHCVPy",
        "colab": {
          "base_uri": "https://localhost:8080/"
        },
        "outputId": "45be21b9-fd24-414e-db14-60c0e1ecc51d"
      },
      "source": [
        "%%writefile H34101096_Week13.cpp\n",
        "\n",
        "#include <iostream>\n",
        "#include <cstdlib>\n",
        "#include <ctime>\n",
        "#include <cmath>\n",
        "#include <iomanip>\n",
        "using namespace std;\n",
        "\n",
        "int main(){\n",
        "    double x;\n",
        "    double y;\n",
        "    int inside=0;\n",
        "    int loop=0;\n",
        "    double max=RAND_MAX;\n",
        "\n",
        "    srand(time(0));\n",
        "\n",
        "    for (int i=0 ; i<5000000 ; i++){\n",
        "        x = ( rand() + 1 )/max;\n",
        "        y = ( rand() + 1 )/max;\n",
        "\n",
        "        if (pow(x,2)+pow(y,2)<=1)\n",
        "          inside++;\n",
        "        loop++;\n",
        "    }\n",
        "    cout << \"The Pi is \" << setprecision(6) << fixed << static_cast<double>(inside)/static_cast<double>(loop)*4 <<endl;\n",
        "\n",
        "    return 0;\n",
        "}"
      ],
      "execution_count": null,
      "outputs": [
        {
          "output_type": "stream",
          "name": "stdout",
          "text": [
            "Overwriting H34101096_Week13.cpp\n"
          ]
        }
      ]
    },
    {
      "cell_type": "code",
      "metadata": {
        "id": "5vNMu_uyCd2s",
        "colab": {
          "base_uri": "https://localhost:8080/"
        },
        "outputId": "d194e286-8867-4b9f-dcae-94c67c3be703"
      },
      "source": [
        "%%shell\n",
        "\n",
        "g++ H34101096_Week13.cpp -o H34101096_Week13"
      ],
      "execution_count": null,
      "outputs": [
        {
          "output_type": "execute_result",
          "data": {
            "text/plain": [
              ""
            ]
          },
          "metadata": {},
          "execution_count": 34
        }
      ]
    },
    {
      "cell_type": "code",
      "metadata": {
        "id": "6hgMSofMQ9Eu",
        "colab": {
          "base_uri": "https://localhost:8080/"
        },
        "outputId": "40616dc9-a6ca-4c1d-9542-293326df8849"
      },
      "source": [
        "%%shell\n",
        "\n",
        "./H34101096_Week13"
      ],
      "execution_count": null,
      "outputs": [
        {
          "output_type": "stream",
          "name": "stdout",
          "text": [
            "The Pi is 3.141594\n"
          ]
        },
        {
          "output_type": "execute_result",
          "data": {
            "text/plain": [
              ""
            ]
          },
          "metadata": {},
          "execution_count": 42
        }
      ]
    }
  ]
}