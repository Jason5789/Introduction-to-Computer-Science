{
  "nbformat": 4,
  "nbformat_minor": 0,
  "metadata": {
    "colab": {
      "name": "Week2_HW.ipynb",
      "provenance": [],
      "collapsed_sections": []
    },
    "kernelspec": {
      "name": "python3",
      "display_name": "Python 3"
    },
    "language_info": {
      "name": "python"
    }
  },
  "cells": [
    {
      "cell_type": "markdown",
      "metadata": {
        "id": "Rh5jXyyowgc8"
      },
      "source": [
        "Q1"
      ]
    },
    {
      "cell_type": "code",
      "metadata": {
        "colab": {
          "base_uri": "https://localhost:8080/"
        },
        "id": "53W-ImetwiVN",
        "outputId": "f9c92d3e-03ec-4697-d9d2-e3350b280009"
      },
      "source": [
        "%%writefile Ex_Week2.cpp\n",
        "\n",
        "#include <iostream>\n",
        "\n",
        "int main() {\n",
        "    \n",
        "    std::cout \n",
        "\n",
        "    << \"\\\\n is used to start a new line\";\n",
        "\n",
        "    return 0;\n",
        "    \n",
        "     }"
      ],
      "execution_count": 25,
      "outputs": [
        {
          "output_type": "stream",
          "name": "stdout",
          "text": [
            "Overwriting Ex_Week2.cpp\n"
          ]
        }
      ]
    },
    {
      "cell_type": "code",
      "metadata": {
        "colab": {
          "base_uri": "https://localhost:8080/"
        },
        "id": "2N-y2YP7yR_T",
        "outputId": "38d5bade-81b5-428e-e57e-cccd0fb6eb12"
      },
      "source": [
        "%%shell\n",
        "\n",
        "g++ Ex_Week2.cpp -o Ex_Week2"
      ],
      "execution_count": 26,
      "outputs": [
        {
          "output_type": "execute_result",
          "data": {
            "text/plain": [
              ""
            ]
          },
          "metadata": {},
          "execution_count": 26
        }
      ]
    },
    {
      "cell_type": "code",
      "metadata": {
        "colab": {
          "base_uri": "https://localhost:8080/"
        },
        "id": "VII1BZ7E0YUr",
        "outputId": "77d5d4e5-c2f2-42d8-e275-cc78ba195aa6"
      },
      "source": [
        "%%shell\n",
        "\n",
        "./Ex_Week2"
      ],
      "execution_count": 27,
      "outputs": [
        {
          "output_type": "stream",
          "name": "stdout",
          "text": [
            "\\n is used to start a new line"
          ]
        },
        {
          "output_type": "execute_result",
          "data": {
            "text/plain": [
              ""
            ]
          },
          "metadata": {},
          "execution_count": 27
        }
      ]
    },
    {
      "cell_type": "markdown",
      "metadata": {
        "id": "Lh6HI5PldaGo"
      },
      "source": [
        "Q2 Answer:\n",
        "\n",
        "不會出現任何東西"
      ]
    },
    {
      "cell_type": "markdown",
      "metadata": {
        "id": "28q8VNuv4itb"
      },
      "source": [
        "Q3"
      ]
    },
    {
      "cell_type": "code",
      "metadata": {
        "colab": {
          "base_uri": "https://localhost:8080/"
        },
        "id": "12JiBzqG4mQH",
        "outputId": "a4e898ce-e3fd-4e87-da5d-640d7585c068"
      },
      "source": [
        "%%writefile Ex_Week2.cpp\n",
        "\n",
        "#include <iostream>\n",
        "\n",
        "int main(){\n",
        "    int number1;\n",
        "    int number2;\n",
        "\n",
        "    std::cout <<\"Input the first integer:\";\n",
        "    std::cin >> number1;\n",
        "\n",
        "    std::cout <<\"Input the second integer:\";\n",
        "    std::cin >> number2;\n",
        "    \n",
        "    if (number1 >= number2){\n",
        "    std::cout << \"After \" <<number1<< \" is devided by \" <<number2<<\",the reminder is: \"<<number1 % number2<< std::endl;}\n",
        "\n",
        "\n",
        "    if (number2 > number1){\n",
        "    std::cout << \"After \" <<number2<< \" is devided by \" <<number1<<\",the reminder is: \"<<number2 % number1<< std::endl;}\n",
        "\n",
        "    return 0;\n",
        "}"
      ],
      "execution_count": 28,
      "outputs": [
        {
          "output_type": "stream",
          "name": "stdout",
          "text": [
            "Overwriting Ex_Week2.cpp\n"
          ]
        }
      ]
    },
    {
      "cell_type": "code",
      "metadata": {
        "colab": {
          "base_uri": "https://localhost:8080/"
        },
        "id": "VkPv5QcJFI6l",
        "outputId": "efd0141f-23c8-4430-d246-89b61696e6d4"
      },
      "source": [
        "%%shell\n",
        "\n",
        "g++ Ex_Week2.cpp -o Ex_Week2"
      ],
      "execution_count": 29,
      "outputs": [
        {
          "output_type": "execute_result",
          "data": {
            "text/plain": [
              ""
            ]
          },
          "metadata": {},
          "execution_count": 29
        }
      ]
    },
    {
      "cell_type": "code",
      "metadata": {
        "colab": {
          "base_uri": "https://localhost:8080/"
        },
        "id": "hUtgJ5zCLgDS",
        "outputId": "c8600174-7430-45d4-97af-56acc47aa7e4"
      },
      "source": [
        "%%shell\n",
        "\n",
        "./Ex_Week2"
      ],
      "execution_count": 32,
      "outputs": [
        {
          "output_type": "stream",
          "name": "stdout",
          "text": [
            "Input the first integer:3\n",
            "Input the second integer:3\n",
            "After 3 is devided by 3,the reminder is: 0\n"
          ]
        },
        {
          "output_type": "execute_result",
          "data": {
            "text/plain": [
              ""
            ]
          },
          "metadata": {},
          "execution_count": 32
        }
      ]
    }
  ]
}