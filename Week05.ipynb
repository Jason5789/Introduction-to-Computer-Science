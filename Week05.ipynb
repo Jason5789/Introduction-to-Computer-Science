{
  "nbformat": 4,
  "nbformat_minor": 0,
  "metadata": {
    "colab": {
      "name": "H34101096_Week5.ipynb",
      "provenance": [],
      "collapsed_sections": []
    },
    "kernelspec": {
      "name": "python3",
      "display_name": "Python 3"
    },
    "language_info": {
      "name": "python"
    }
  },
  "cells": [
    {
      "cell_type": "code",
      "metadata": {
        "id": "XkOr1dtHCVPy",
        "colab": {
          "base_uri": "https://localhost:8080/"
        },
        "outputId": "5090abb7-16f6-4e57-9f07-155197ba980c"
      },
      "source": [
        "%%writefile H34101096_Week5.cpp\n",
        "\n",
        "#include <iostream>\n",
        "using namespace std;\n",
        "\n",
        "int main(){\n",
        "    int i;\n",
        "    int j;\n",
        "    int k;\n",
        "    int a;\n",
        "\n",
        "    cout << \"Please input the height of your pyramid:\";\n",
        "    cin >> i;\n",
        "    a=i+1;\n",
        "\n",
        "    for ( i ; i>=1 ; i--)\n",
        "    {j=i;\n",
        "    for ( j ; j>=2 ; j--)\n",
        "      cout << \" \";\n",
        "    for ( int k=1 ; k<=a-i ; k++)\n",
        "        cout << \"x\";\n",
        "     cout <<endl;\n",
        "     }\n",
        "\n",
        "    \n",
        "    return 0;\n",
        "}"
      ],
      "execution_count": 5,
      "outputs": [
        {
          "output_type": "stream",
          "name": "stdout",
          "text": [
            "Overwriting H34101096_Week5.cpp\n"
          ]
        }
      ]
    },
    {
      "cell_type": "code",
      "metadata": {
        "id": "5vNMu_uyCd2s",
        "colab": {
          "base_uri": "https://localhost:8080/"
        },
        "outputId": "56a3a680-ab2e-49ff-b443-b753f0719515"
      },
      "source": [
        "%%shell\n",
        "\n",
        "g++ H34101096_Week5.cpp -o H34101096_Week5"
      ],
      "execution_count": 6,
      "outputs": [
        {
          "output_type": "execute_result",
          "data": {
            "text/plain": [
              ""
            ]
          },
          "metadata": {},
          "execution_count": 6
        }
      ]
    },
    {
      "cell_type": "code",
      "metadata": {
        "id": "6hgMSofMQ9Eu",
        "colab": {
          "base_uri": "https://localhost:8080/"
        },
        "outputId": "4fe4b616-783a-453b-f1fd-0ee585bef43b"
      },
      "source": [
        "%%shell\n",
        "\n",
        "./H34101096_Week5"
      ],
      "execution_count": 12,
      "outputs": [
        {
          "output_type": "stream",
          "name": "stdout",
          "text": [
            "Please input the height of your pyramid:6\n",
            "     x\n",
            "    xx\n",
            "   xxx\n",
            "  xxxx\n",
            " xxxxx\n",
            "xxxxxx\n"
          ]
        },
        {
          "output_type": "execute_result",
          "data": {
            "text/plain": [
              ""
            ]
          },
          "metadata": {},
          "execution_count": 12
        }
      ]
    }
  ]
}