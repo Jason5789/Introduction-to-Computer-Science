{
  "nbformat": 4,
  "nbformat_minor": 0,
  "metadata": {
    "colab": {
      "name": "H34101096_week3.ipynb",
      "provenance": [],
      "collapsed_sections": []
    },
    "kernelspec": {
      "name": "python3",
      "display_name": "Python 3"
    },
    "language_info": {
      "name": "python"
    }
  },
  "cells": [
    {
      "cell_type": "markdown",
      "metadata": {
        "id": "oyinWSR6uJUu"
      },
      "source": [
        "Q1"
      ]
    },
    {
      "cell_type": "code",
      "metadata": {
        "id": "WcsjNhPlhLn7",
        "colab": {
          "base_uri": "https://localhost:8080/"
        },
        "outputId": "68e1dd3e-3515-4b7b-8dd7-eb25a2cbe463"
      },
      "source": [
        "%%writefile H34101096_week3.cpp\n",
        "\n",
        "#include <iostream>\n",
        "using namespace std;\n",
        "\n",
        "int main(){\n",
        "    int num1;\n",
        "\n",
        "    cout <<\"Input a four digits AD year:\";\n",
        "    cin >> num1;\n",
        "\n",
        "    if(num1 < 1000)\n",
        "      cout <<\"Wrong input!\" <<endl;\n",
        "    else if(num1 > 9999)\n",
        "      cout <<\"Wrong input!\" <<endl;\n",
        "    else if(num1%400 == 0)\n",
        "      cout <<\"Leap year\" <<endl;\n",
        "    else if(num1%100 == 0)\n",
        "      cout <<\"Common year\" <<endl;\n",
        "    else if(num1%4 == 0)\n",
        "      cout <<\"Leap year\" <<endl;\n",
        "    else\n",
        "      cout <<\"Common year\" <<endl;\n",
        "  \n",
        "return 0;\n",
        "    \n",
        "}"
      ],
      "execution_count": 1,
      "outputs": [
        {
          "output_type": "stream",
          "name": "stdout",
          "text": [
            "Writing H34101096_week3.cpp\n"
          ]
        }
      ]
    },
    {
      "cell_type": "code",
      "metadata": {
        "colab": {
          "base_uri": "https://localhost:8080/"
        },
        "id": "w8zzBixeF0Cr",
        "outputId": "74a8ce9b-6717-414c-a0cc-cd5c056e3d97"
      },
      "source": [
        "%%shell\n",
        "\n",
        "g++ H34101096_week3.cpp -o H34101096_week3"
      ],
      "execution_count": 2,
      "outputs": [
        {
          "output_type": "execute_result",
          "data": {
            "text/plain": [
              ""
            ]
          },
          "metadata": {},
          "execution_count": 2
        }
      ]
    },
    {
      "cell_type": "code",
      "metadata": {
        "colab": {
          "base_uri": "https://localhost:8080/"
        },
        "id": "eadWeBdgfMpm",
        "outputId": "c7078ffa-2ac5-4d97-aa27-62d5545143d7"
      },
      "source": [
        "%%shell\n",
        "\n",
        "./H34101096_week3"
      ],
      "execution_count": 12,
      "outputs": [
        {
          "output_type": "stream",
          "name": "stdout",
          "text": [
            "Input a four digits AD year:1616\n",
            "Leap year\n"
          ]
        },
        {
          "output_type": "execute_result",
          "data": {
            "text/plain": [
              ""
            ]
          },
          "metadata": {},
          "execution_count": 12
        }
      ]
    }
  ]
}