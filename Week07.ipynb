{
  "nbformat": 4,
  "nbformat_minor": 0,
  "metadata": {
    "colab": {
      "name": "H34101096_Week7.ipynb",
      "provenance": [],
      "collapsed_sections": []
    },
    "kernelspec": {
      "name": "python3",
      "display_name": "Python 3"
    },
    "language_info": {
      "name": "python"
    }
  },
  "cells": [
    {
      "cell_type": "code",
      "metadata": {
        "id": "XkOr1dtHCVPy",
        "colab": {
          "base_uri": "https://localhost:8080/"
        },
        "outputId": "688b7238-95c3-48a9-e950-f4301c54e08b"
      },
      "source": [
        "%%writefile H34101096_Week7.cpp\n",
        "\n",
        "#include <iostream>\n",
        "using namespace std;\n",
        "\n",
        "bool isPrime(int i){\n",
        "    int a;\n",
        "    \n",
        "    if(i==2)\n",
        "    return 1;\n",
        "    else\n",
        "    {for( a=2 ; a<i ; a++ )\n",
        "    {\n",
        "        if(i==a+1)\n",
        "        return 1;\n",
        "        else if(i%a==0)\n",
        "        {return 0;\n",
        "        break;}\n",
        "        else\n",
        "        continue;\n",
        "    }}\n",
        "\n",
        "}\n",
        "\n",
        "int main(){\n",
        "    int x;\n",
        "    int y;\n",
        "    int z;\n",
        "    cout << \"Please input a positive integer:\";\n",
        "    cin >> x;\n",
        "\n",
        "    cout << \"Prime factor: \";\n",
        "    for( y=2 ; y<x ; y++ )\n",
        "    {\n",
        "    if(x%y==0)\n",
        "    {z=y;\n",
        "     if(isPrime(z)==1)\n",
        "     cout << z << \" \";\n",
        "    }\n",
        "\n",
        "    }\n",
        "    return 0;\n",
        "}"
      ],
      "execution_count": 1,
      "outputs": [
        {
          "output_type": "stream",
          "name": "stdout",
          "text": [
            "Writing H34101096_Week7.cpp\n"
          ]
        }
      ]
    },
    {
      "cell_type": "code",
      "metadata": {
        "id": "5vNMu_uyCd2s",
        "colab": {
          "base_uri": "https://localhost:8080/"
        },
        "outputId": "85cae2ae-265d-4f41-92ad-a56f6cd5460a"
      },
      "source": [
        "%%shell\n",
        "\n",
        "g++ H34101096_Week7.cpp -o H34101096_Week7"
      ],
      "execution_count": 2,
      "outputs": [
        {
          "output_type": "execute_result",
          "data": {
            "text/plain": [
              ""
            ]
          },
          "metadata": {},
          "execution_count": 2
        }
      ]
    },
    {
      "cell_type": "code",
      "metadata": {
        "id": "6hgMSofMQ9Eu",
        "colab": {
          "base_uri": "https://localhost:8080/"
        },
        "outputId": "4d63e4af-90f4-4b83-a2d8-39f5dcf60571"
      },
      "source": [
        "%%shell\n",
        "\n",
        "./H34101096_Week7"
      ],
      "execution_count": 4,
      "outputs": [
        {
          "output_type": "stream",
          "name": "stdout",
          "text": [
            "Please input a positive integer:323\n",
            "Prime factor: 17 19 "
          ]
        },
        {
          "output_type": "execute_result",
          "data": {
            "text/plain": [
              ""
            ]
          },
          "metadata": {},
          "execution_count": 4
        }
      ]
    }
  ]
}